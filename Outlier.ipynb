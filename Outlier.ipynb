{
  "nbformat": 4,
  "nbformat_minor": 0,
  "metadata": {
    "colab": {
      "name": "Outlier.ipynb",
      "provenance": [],
      "authorship_tag": "ABX9TyMwUx0JIzKnfnh0cE3d08X0"
    },
    "kernelspec": {
      "name": "python3",
      "display_name": "Python 3"
    },
    "language_info": {
      "name": "python"
    }
  },
  "cells": [
    {
      "cell_type": "markdown",
      "metadata": {
        "id": "xWv4Xb__d8kS"
      },
      "source": [
        "#Outlier using Z score and IQR"
      ]
    },
    {
      "cell_type": "code",
      "metadata": {
        "id": "R1TLKAy2eW6K"
      },
      "source": [
        "import pandas as pd\n",
        "import numpy as np\n",
        "import matplotlib.pyplot as plt\n",
        "%matplotlib inline"
      ],
      "execution_count": 1,
      "outputs": []
    },
    {
      "cell_type": "code",
      "metadata": {
        "id": "0ZpNxzmycl9u"
      },
      "source": [
        "data = [11,10,12,14,12,15,14,13,15,102,12,14,17,19,107,10,13,12,14,12,108,12,11,14,13,15,10,15,12,10,14,13,15,10]"
      ],
      "execution_count": 3,
      "outputs": []
    },
    {
      "cell_type": "markdown",
      "metadata": {
        "id": "26-_aU8fjOKv"
      },
      "source": [
        "**Detecting outlier using Z score**\n"
      ]
    },
    {
      "cell_type": "markdown",
      "metadata": {
        "id": "oVm8Eayhi3Zy"
      },
      "source": [
        "\n",
        "Using Z score\n",
        "Formula for Z score = (Observation — Mean)/Standard Deviation\n",
        "\n",
        "z = (X — μ) / σ"
      ]
    },
    {
      "cell_type": "code",
      "metadata": {
        "id": "3xxdw-ANjH8w"
      },
      "source": [
        "outlier = []\n",
        "\n",
        "def detect_outliers(data):\n",
        "  threshold = 3\n",
        "  mean = np.mean(data)\n",
        "  std_dev = np.std(data)\n",
        "\n",
        "  for i in data:\n",
        "    z_score = (i-mean)/std_dev\n",
        "    if np.abs(z_score)>3:\n",
        "      outlier.append(i)\n",
        "  return outlier"
      ],
      "execution_count": 51,
      "outputs": []
    },
    {
      "cell_type": "code",
      "metadata": {
        "colab": {
          "base_uri": "https://localhost:8080/"
        },
        "id": "5PEEbOZ7lZ1Q",
        "outputId": "61b2ddc4-1cdb-4a7c-bb09-e712fb052cdf"
      },
      "source": [
        "detect_outliers(data)"
      ],
      "execution_count": 52,
      "outputs": [
        {
          "output_type": "execute_result",
          "data": {
            "text/plain": [
              "[102, 107, 108]"
            ]
          },
          "metadata": {
            "tags": []
          },
          "execution_count": 52
        }
      ]
    },
    {
      "cell_type": "markdown",
      "metadata": {
        "id": "ftEZC6oGrwh5"
      },
      "source": [
        " **InterQuantile (IQR)**"
      ]
    },
    {
      "cell_type": "markdown",
      "metadata": {
        "id": "ZW9h3OwkrsjT"
      },
      "source": [
        "75%- 25% values in a dataset\n",
        "\n"
      ]
    },
    {
      "cell_type": "markdown",
      "metadata": {
        "id": "zh8BCZLPsEkw"
      },
      "source": [
        "Steps\n",
        "1. Arrange the data in increasing order\n",
        "2. Calculate first(q1) and third quartile(q3)\n",
        "3. Find interquartile range (q3-q1)\n",
        "4.Find lower bound q1*1.5\n",
        "5.Find upper bound q3*1.5\n",
        "Anything that lies outside of lower and upper bound is an outlier"
      ]
    },
    {
      "cell_type": "code",
      "metadata": {
        "id": "bbyELePEmujl"
      },
      "source": [
        "data_sort = sorted(data)"
      ],
      "execution_count": 53,
      "outputs": []
    },
    {
      "cell_type": "code",
      "metadata": {
        "colab": {
          "base_uri": "https://localhost:8080/"
        },
        "id": "1yXzWmigskbe",
        "outputId": "249ae676-725f-4215-897e-7a0c79f685a9"
      },
      "source": [
        "quartile_1,quartile_3 = np.percentile(data,[25,75])\n",
        "print(quartile_1)\n",
        "print(quartile_3)"
      ],
      "execution_count": 54,
      "outputs": [
        {
          "output_type": "stream",
          "text": [
            "12.0\n",
            "15.0\n"
          ],
          "name": "stdout"
        }
      ]
    },
    {
      "cell_type": "code",
      "metadata": {
        "id": "G5ZIhdots-LY"
      },
      "source": [
        "IQR = (quartile_3 - quartile_1)"
      ],
      "execution_count": 55,
      "outputs": []
    },
    {
      "cell_type": "code",
      "metadata": {
        "colab": {
          "base_uri": "https://localhost:8080/"
        },
        "id": "sVkgCTDjtJ_A",
        "outputId": "196d0512-5741-4b7f-84ae-cf46f044db21"
      },
      "source": [
        "print(IQR)"
      ],
      "execution_count": 56,
      "outputs": [
        {
          "output_type": "stream",
          "text": [
            "3.0\n"
          ],
          "name": "stdout"
        }
      ]
    },
    {
      "cell_type": "code",
      "metadata": {
        "id": "43KhbWUYtMgN"
      },
      "source": [
        "## Find the lower bound value and the higher bound value\n",
        "\n",
        "lower_bound_val = quartile_1 -(1.5 * IQR) \n",
        "upper_bound_val = quartile_3 +(1.5 * IQR)"
      ],
      "execution_count": 58,
      "outputs": []
    },
    {
      "cell_type": "code",
      "metadata": {
        "colab": {
          "base_uri": "https://localhost:8080/"
        },
        "id": "Ebm4EfqRtpYI",
        "outputId": "7ed752c5-954f-4c94-f36d-a25845484f41"
      },
      "source": [
        "print(lower_bound_val)\n",
        "print(upper_bound_val)\n"
      ],
      "execution_count": 59,
      "outputs": [
        {
          "output_type": "stream",
          "text": [
            "7.5\n",
            "19.5\n"
          ],
          "name": "stdout"
        }
      ]
    },
    {
      "cell_type": "code",
      "metadata": {
        "id": "iSvMZJUktxdr"
      },
      "source": [
        "outlrs = []\n",
        "for i in data:\n",
        "  if i<lower_bound_val or i>upper_bound_val:\n",
        "    outlrs.append(i)\n"
      ],
      "execution_count": 60,
      "outputs": []
    },
    {
      "cell_type": "code",
      "metadata": {
        "colab": {
          "base_uri": "https://localhost:8080/"
        },
        "id": "ihTtAEn9urkZ",
        "outputId": "2e5a356a-4576-4279-e584-9658852bf42a"
      },
      "source": [
        "outlrs"
      ],
      "execution_count": 61,
      "outputs": [
        {
          "output_type": "execute_result",
          "data": {
            "text/plain": [
              "[102, 107, 108]"
            ]
          },
          "metadata": {
            "tags": []
          },
          "execution_count": 61
        }
      ]
    },
    {
      "cell_type": "code",
      "metadata": {
        "id": "VHbkgO_futGw"
      },
      "source": [
        ""
      ],
      "execution_count": null,
      "outputs": []
    }
  ]
}
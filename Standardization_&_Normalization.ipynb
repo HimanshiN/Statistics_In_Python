{
  "nbformat": 4,
  "nbformat_minor": 0,
  "metadata": {
    "colab": {
      "name": "Standardization & Normalization.ipynb",
      "provenance": [],
      "authorship_tag": "ABX9TyOQnt3n6CPzkc5otR44Sm03"
    },
    "kernelspec": {
      "name": "python3",
      "display_name": "Python 3"
    },
    "language_info": {
      "name": "python"
    }
  },
  "cells": [
    {
      "cell_type": "markdown",
      "metadata": {
        "id": "QhhSU32WUa8d"
      },
      "source": [
        " **About standardization**"
      ]
    },
    {
      "cell_type": "markdown",
      "metadata": {
        "id": "xLWr92chU6AX"
      },
      "source": [
        "\n",
        "refer link:https://sebastianraschka.com/Articles/2014_about_feature_scaling.html\n",
        "\n",
        "The result of standardization (or Z-score normalization) is that the features will be rescaled so that they’ll have the properties of a standard normal distribution with\n",
        "\n",
        "μ=0 and σ=1\n",
        "where μ is the mean (average) and σ is the standard deviation from the mean; standard scores (also called z scores) of the samples are calculated as follows:\n",
        "\n",
        "z=x−μσ\n",
        "Standardizing the features so that they are centered around 0 with a standard deviation of 1 is not only important if we are comparing measurements that have different units, but it is also a general requirement for many machine learning algorithms. Intuitively, we can think of gradient descent as a prominent example (an optimization algorithm often used in logistic regression, SVMs, perceptrons, neural networks etc.); with features being on different scales, certain weights may update faster than others since the feature values xj play a role in the weight updates\n",
        "\n",
        "Δwj=−η∂J/∂wj=η∑i(t(i)−o(i))x(i)j,\n",
        "so that\n",
        "\n",
        "wj:=wj+Δwj, where η is the learning rate, t the target class label, and o the actual output. Other intuitive examples include K-Nearest Neighbor algorithms and clustering algorithms that use, for example, Euclidean distance measures – in fact, tree-based classifier are probably the only classifiers where feature scaling doesn’t make a difference.\n",
        "\n",
        "In fact, the only family of algorithms that I could think of being scale-invariant are tree-based methods. Let’s take the general CART decision tree algorithm. Without going into much depth regarding information gain and impurity measures, we can think of the decision as “is feature x_i >= some_val?” Intuitively, we can see that it really doesn’t matter on which scale this feature is (centimeters, Fahrenheit, a standardized scale – it really doesn’t matter).\n",
        "\n",
        "***Some examples of algorithms where feature scaling matters are:***\n",
        "\n",
        "1)k-nearest neighbors with an Euclidean distance measure if want all features to contribute equally\n",
        "\n",
        "2)k-means (see k-nearest neighbors)\n",
        "\n",
        "3)logistic regression, SVMs, perceptrons, neural networks etc. if you are using gradient descent/ascent-based optimization, otherwise some weights will update much faster than others\n",
        "\n",
        "4)linear discriminant analysis, principal component analysis, kernel principal component analysis since you want to find directions of maximizing the variance (under the constraints that those directions/eigenvectors/principal components are orthogonal); you want to have features on the same scale since you’d emphasize variables on “larger measurement scales” more. There are many more cases than I can possibly list here … I always recommend you to think about the algorithm and what it’s doing, and then it typically becomes obvious whether we want to scale your features or not.\n"
      ]
    },
    {
      "cell_type": "markdown",
      "metadata": {
        "id": "74dUkKZGWYKx"
      },
      "source": [
        "**About Normalization or Min Max scaling**"
      ]
    },
    {
      "cell_type": "markdown",
      "metadata": {
        "id": "oRbP7JcYWmuj"
      },
      "source": [
        "An alternative approach to Z-score normalization (or standardization) is the so-called Min-Max scaling (often also simply called “normalization” - a common cause for ambiguities).\n",
        "In this approach, the data is scaled to a fixed range - usually 0 to 1.\n",
        "The cost of having this bounded range - in contrast to standardization - is that we will end up with smaller standard deviations, which can suppress the effect of outliers.\n",
        "\n",
        "A Min-Max scaling is typically done via the following equation:\n",
        "\n",
        "**Xnorm=X−Xmin/Xmax−Xmin**"
      ]
    },
    {
      "cell_type": "markdown",
      "metadata": {
        "id": "u0PjreEPW18-"
      },
      "source": [
        "**Standardization OR Normalization?**"
      ]
    },
    {
      "cell_type": "markdown",
      "metadata": {
        "id": "3__Ri6deXKAg"
      },
      "source": [
        "**“Standardization or Min-Max scaling?”** - There is no obvious answer to this question: it really depends on the application.\n",
        "\n",
        "For example, in clustering analyses, standardization may be especially crucial in order to compare similarities between features based on certain distance measures. Another prominent example is the Principal Component Analysis, where we usually prefer standardization over Min-Max scaling, since we are interested in the components that maximize the variance (depending on the question and if the PCA computes the components via the correlation matrix instead of the covariance matrix; but more about PCA in my previous article).\n",
        "\n",
        "However, this doesn’t mean that Min-Max scaling is not useful at all! A popular application is image processing, where pixel intensities have to be normalized to fit within a certain range (i.e., 0 to 255 for the RGB color range). Also, typical neural network algorithm require data that on a 0-1 scale."
      ]
    },
    {
      "cell_type": "markdown",
      "metadata": {
        "id": "Ezadgx0rYvld"
      },
      "source": [
        "**Standardizing and normalizing - using scikit-learn**\n"
      ]
    },
    {
      "cell_type": "markdown",
      "metadata": {
        "id": "wAiOs0TMdOl1"
      },
      "source": [
        "Of course, we could make use of NumPy’s vectorization capabilities to calculate the z-scores for standardization and to normalize the data using the equations that were mentioned in the previous sections. However, there is an even more convenient approach using the preprocessing module from one of Python’s open-source machine learning library scikit-learn.\n",
        "\n",
        "For the following examples and discussion, we will have a look at the free “Wine” Dataset that is deposited on the UCI machine learning repository\n",
        "(http://archive.ics.uci.edu/ml/datasets/Wine).\n",
        "\n",
        "The Wine dataset consists of 3 different classes where each row correspond to a particular wine sample.\n",
        "\n",
        "The class labels (1, 2, 3) are listed in the first column, and the columns 2-14 correspond to 13 different attributes (features):"
      ]
    },
    {
      "cell_type": "code",
      "metadata": {
        "id": "iN5-kB3zexAz"
      },
      "source": [
        "import pandas as pd\n",
        "import numpy as np\n"
      ],
      "execution_count": 1,
      "outputs": []
    },
    {
      "cell_type": "code",
      "metadata": {
        "id": "pfkK0HMOe03Y"
      },
      "source": [
        "df = pd.io.parsers.read_csv(\n",
        "    'https://raw.githubusercontent.com/rasbt/pattern_classification/master/data/wine_data.csv',\n",
        "     header=None,\n",
        "     usecols=[0,1,2]\n",
        "    )"
      ],
      "execution_count": 2,
      "outputs": []
    },
    {
      "cell_type": "code",
      "metadata": {
        "colab": {
          "base_uri": "https://localhost:8080/",
          "height": 204
        },
        "id": "iY2ZnmjSe5xj",
        "outputId": "59edc529-5598-4d7b-bc77-f451846c67f4"
      },
      "source": [
        "df.head()"
      ],
      "execution_count": 3,
      "outputs": [
        {
          "output_type": "execute_result",
          "data": {
            "text/html": [
              "<div>\n",
              "<style scoped>\n",
              "    .dataframe tbody tr th:only-of-type {\n",
              "        vertical-align: middle;\n",
              "    }\n",
              "\n",
              "    .dataframe tbody tr th {\n",
              "        vertical-align: top;\n",
              "    }\n",
              "\n",
              "    .dataframe thead th {\n",
              "        text-align: right;\n",
              "    }\n",
              "</style>\n",
              "<table border=\"1\" class=\"dataframe\">\n",
              "  <thead>\n",
              "    <tr style=\"text-align: right;\">\n",
              "      <th></th>\n",
              "      <th>0</th>\n",
              "      <th>1</th>\n",
              "      <th>2</th>\n",
              "    </tr>\n",
              "  </thead>\n",
              "  <tbody>\n",
              "    <tr>\n",
              "      <th>0</th>\n",
              "      <td>1</td>\n",
              "      <td>14.23</td>\n",
              "      <td>1.71</td>\n",
              "    </tr>\n",
              "    <tr>\n",
              "      <th>1</th>\n",
              "      <td>1</td>\n",
              "      <td>13.20</td>\n",
              "      <td>1.78</td>\n",
              "    </tr>\n",
              "    <tr>\n",
              "      <th>2</th>\n",
              "      <td>1</td>\n",
              "      <td>13.16</td>\n",
              "      <td>2.36</td>\n",
              "    </tr>\n",
              "    <tr>\n",
              "      <th>3</th>\n",
              "      <td>1</td>\n",
              "      <td>14.37</td>\n",
              "      <td>1.95</td>\n",
              "    </tr>\n",
              "    <tr>\n",
              "      <th>4</th>\n",
              "      <td>1</td>\n",
              "      <td>13.24</td>\n",
              "      <td>2.59</td>\n",
              "    </tr>\n",
              "  </tbody>\n",
              "</table>\n",
              "</div>"
            ],
            "text/plain": [
              "   0      1     2\n",
              "0  1  14.23  1.71\n",
              "1  1  13.20  1.78\n",
              "2  1  13.16  2.36\n",
              "3  1  14.37  1.95\n",
              "4  1  13.24  2.59"
            ]
          },
          "metadata": {
            "tags": []
          },
          "execution_count": 3
        }
      ]
    },
    {
      "cell_type": "code",
      "metadata": {
        "colab": {
          "base_uri": "https://localhost:8080/",
          "height": 204
        },
        "id": "9-Y5vRsIe7aV",
        "outputId": "dbded559-6e76-4a07-8e5c-dd04bcbeb124"
      },
      "source": [
        "df.columns=['Class label', 'Alcohol', 'Malic acid']\n",
        "\n",
        "df.head()"
      ],
      "execution_count": 4,
      "outputs": [
        {
          "output_type": "execute_result",
          "data": {
            "text/html": [
              "<div>\n",
              "<style scoped>\n",
              "    .dataframe tbody tr th:only-of-type {\n",
              "        vertical-align: middle;\n",
              "    }\n",
              "\n",
              "    .dataframe tbody tr th {\n",
              "        vertical-align: top;\n",
              "    }\n",
              "\n",
              "    .dataframe thead th {\n",
              "        text-align: right;\n",
              "    }\n",
              "</style>\n",
              "<table border=\"1\" class=\"dataframe\">\n",
              "  <thead>\n",
              "    <tr style=\"text-align: right;\">\n",
              "      <th></th>\n",
              "      <th>Class label</th>\n",
              "      <th>Alcohol</th>\n",
              "      <th>Malic acid</th>\n",
              "    </tr>\n",
              "  </thead>\n",
              "  <tbody>\n",
              "    <tr>\n",
              "      <th>0</th>\n",
              "      <td>1</td>\n",
              "      <td>14.23</td>\n",
              "      <td>1.71</td>\n",
              "    </tr>\n",
              "    <tr>\n",
              "      <th>1</th>\n",
              "      <td>1</td>\n",
              "      <td>13.20</td>\n",
              "      <td>1.78</td>\n",
              "    </tr>\n",
              "    <tr>\n",
              "      <th>2</th>\n",
              "      <td>1</td>\n",
              "      <td>13.16</td>\n",
              "      <td>2.36</td>\n",
              "    </tr>\n",
              "    <tr>\n",
              "      <th>3</th>\n",
              "      <td>1</td>\n",
              "      <td>14.37</td>\n",
              "      <td>1.95</td>\n",
              "    </tr>\n",
              "    <tr>\n",
              "      <th>4</th>\n",
              "      <td>1</td>\n",
              "      <td>13.24</td>\n",
              "      <td>2.59</td>\n",
              "    </tr>\n",
              "  </tbody>\n",
              "</table>\n",
              "</div>"
            ],
            "text/plain": [
              "   Class label  Alcohol  Malic acid\n",
              "0            1    14.23        1.71\n",
              "1            1    13.20        1.78\n",
              "2            1    13.16        2.36\n",
              "3            1    14.37        1.95\n",
              "4            1    13.24        2.59"
            ]
          },
          "metadata": {
            "tags": []
          },
          "execution_count": 4
        }
      ]
    },
    {
      "cell_type": "markdown",
      "metadata": {
        "id": "CqT5cP_ffQAr"
      },
      "source": [
        "As we can see in the table above, the features Alcohol **(percent/volumne)** and Malic acid **(g/l)** are measured on different scales, so that Feature Scaling is necessary important prior to any comparison or combination of these data"
      ]
    },
    {
      "cell_type": "code",
      "metadata": {
        "id": "KMuME_unfPit"
      },
      "source": [
        "from sklearn import preprocessing"
      ],
      "execution_count": 5,
      "outputs": []
    },
    {
      "cell_type": "code",
      "metadata": {
        "id": "A9H5BBggfBtC"
      },
      "source": [
        "std_scale = preprocessing.StandardScaler().fit(df[['Alcohol', 'Malic acid']])\n",
        "df_std = std_scale.transform(df[['Alcohol', 'Malic acid']])\n",
        "\n",
        "min_max_scale = preprocessing.MinMaxScaler().fit(df[['Alcohol', 'Malic acid']])\n",
        "df_minmax = min_max_scale.transform(df[['Alcohol', 'Malic acid']])"
      ],
      "execution_count": 7,
      "outputs": []
    },
    {
      "cell_type": "code",
      "metadata": {
        "colab": {
          "base_uri": "https://localhost:8080/"
        },
        "id": "uHmZy5VrhwUH",
        "outputId": "bae7ba05-2921-4930-b583-6847bce3e5d0"
      },
      "source": [
        "df_std"
      ],
      "execution_count": 10,
      "outputs": [
        {
          "output_type": "execute_result",
          "data": {
            "text/plain": [
              "array([[ 1.51861254, -0.5622498 ],\n",
              "       [ 0.24628963, -0.49941338],\n",
              "       [ 0.19687903,  0.02123125],\n",
              "       [ 1.69154964, -0.34681064],\n",
              "       [ 0.29570023,  0.22769377],\n",
              "       [ 1.48155459, -0.51736664],\n",
              "       [ 1.71625494, -0.4186237 ],\n",
              "       [ 1.3086175 , -0.16727801],\n",
              "       [ 2.25977152, -0.62508622],\n",
              "       [ 1.0615645 , -0.88540853],\n",
              "       [ 1.3580281 , -0.15830138],\n",
              "       [ 1.38273339, -0.76871232],\n",
              "       [ 0.92568536, -0.54429654],\n",
              "       [ 2.16095032, -0.54429654],\n",
              "       [ 1.70390229, -0.4186237 ],\n",
              "       [ 0.77745356, -0.47248348],\n",
              "       [ 1.60508109, -0.37374054],\n",
              "       [ 1.02450655, -0.68792264],\n",
              "       [ 1.46920194, -0.66996938],\n",
              "       [ 0.78980621,  0.68550197],\n",
              "       [ 1.3086175 , -0.63406285],\n",
              "       [-0.08723191,  1.31386618],\n",
              "       [ 0.87627476, -0.42760033],\n",
              "       [-0.18605311, -0.66099274],\n",
              "       [ 0.61686912, -0.47248348],\n",
              "       [ 0.06099988, -0.25704433],\n",
              "       [ 0.48098997, -0.50839001],\n",
              "       [ 0.36981612, -0.55327317],\n",
              "       [ 1.07391715, -0.3916938 ],\n",
              "       [ 1.2592069 , -0.58917969],\n",
              "       [ 0.90098006, -0.75075906],\n",
              "       [ 0.71569031, -0.60713296],\n",
              "       [ 0.83921681, -0.45453022],\n",
              "       [ 0.93803801, -0.72382916],\n",
              "       [ 0.62922177, -0.48146012],\n",
              "       [ 0.59216382, -0.47248348],\n",
              "       [ 0.34511082, -0.62508622],\n",
              "       [ 0.06099988, -0.61610959],\n",
              "       [ 0.08570518, -0.75075906],\n",
              "       [ 1.50625989,  1.48442217],\n",
              "       [ 0.69098501, -0.5622498 ],\n",
              "       [ 0.50569527,  1.3497727 ],\n",
              "       [ 1.0862698 , -0.40067043],\n",
              "       [ 0.29570023,  1.47544554],\n",
              "       [ 0.06099988, -0.50839001],\n",
              "       [ 1.49390724,  1.52930533],\n",
              "       [ 1.70390229,  1.12535692],\n",
              "       [ 1.1109751 , -0.58917969],\n",
              "       [ 1.3580281 , -0.28397422],\n",
              "       [ 1.1603857 , -0.54429654],\n",
              "       [ 0.06099988, -0.54429654],\n",
              "       [ 1.02450655, -0.61610959],\n",
              "       [ 1.01215391, -0.52634327],\n",
              "       [ 0.95039066, -0.3916938 ],\n",
              "       [ 0.91333271, -0.59815632],\n",
              "       [ 0.69098501, -0.54429654],\n",
              "       [ 1.50625989, -0.57122643],\n",
              "       [ 0.35746347, -0.32885738],\n",
              "       [ 0.88862741, -0.81359548],\n",
              "       [-0.77898029, -1.25345042],\n",
              "       [-0.82839089, -1.10982432],\n",
              "       [-0.44545875, -0.8764319 ],\n",
              "       [ 0.82686416, -0.97517485],\n",
              "       [-0.77898029, -1.08289442],\n",
              "       [-1.02603329, -0.79564222],\n",
              "       [-0.77898029, -1.01108137],\n",
              "       [ 0.13511578, -1.190614  ],\n",
              "       [-0.77898029, -1.0469879 ],\n",
              "       [ 0.41922672, -1.25345042],\n",
              "       [-0.97662269, -1.02903463],\n",
              "       [-0.87780149, -0.65201611],\n",
              "       [ 1.0615645 , -0.74178243],\n",
              "       [ 0.60451647, -0.60713296],\n",
              "       [-0.01311602, -0.59815632],\n",
              "       [-1.28543893, -1.11880095],\n",
              "       [-1.65601842, -0.40964706],\n",
              "       [ 0.03629458, -1.28935695],\n",
              "       [-1.43367073,  0.49699271],\n",
              "       [-0.82839089, -1.20856726],\n",
              "       [-0.37134286,  1.3767026 ],\n",
              "       [-1.23602833, -1.27140368],\n",
              "       [-0.34663756, -0.47248348],\n",
              "       [-1.13720713, -1.08289442],\n",
              "       [ 0.06099988,  1.36772596],\n",
              "       [-1.43367073, -1.29833358],\n",
              "       [-0.4084008 , -1.21754389],\n",
              "       [-1.03838594, -0.65201611],\n",
              "       [-1.66837107, -0.59815632],\n",
              "       [-1.68072372, -0.2480677 ],\n",
              "       [-1.13720713, -0.90336179],\n",
              "       [-1.13720713, -0.45453022],\n",
              "       [-1.23602833, -0.74178243],\n",
              "       [-0.38369551, -0.72382916],\n",
              "       [-0.87780149,  0.44313292],\n",
              "       [-1.70542902, -0.31090412],\n",
              "       [-0.6554538 , -0.7328058 ],\n",
              "       [-1.47072867, -0.19420791],\n",
              "       [-0.87780149, -0.83154874],\n",
              "       [-0.77898029, -1.13675421],\n",
              "       [-0.87780149,  0.74833839],\n",
              "       [-1.13720713, -0.23011443],\n",
              "       [-0.49486935, -0.89438516],\n",
              "       [-0.81603824,  0.10202093],\n",
              "       [-1.45837602, -0.55327317],\n",
              "       [-0.6060432 , -0.54429654],\n",
              "       [-0.71721705,  0.19178724],\n",
              "       [-0.92721209, -0.54429654],\n",
              "       [-0.34663756, -0.52634327],\n",
              "       [-0.96427004, -0.93926832],\n",
              "       [-1.71778167, -0.88540853],\n",
              "       [-1.90307141,  1.26000639],\n",
              "       [-0.59369055,  0.08406767],\n",
              "       [-1.53249192,  0.30848345],\n",
              "       [-1.96483466, -1.43298305],\n",
              "       [-1.13720713, -0.849502  ],\n",
              "       [-2.43423535, -0.74178243],\n",
              "       [-1.45837602, -0.77768895],\n",
              "       [-0.71721705, -0.65201611],\n",
              "       [-0.28487431,  0.98173081],\n",
              "       [-1.23602833,  0.98173081],\n",
              "       [-1.91542406,  0.05713777],\n",
              "       [-1.77954492, -0.25704433],\n",
              "       [-0.71721705,  1.87939396],\n",
              "       [ 0.06099988,  3.10919247],\n",
              "       [-1.39661278,  1.77167438],\n",
              "       [-1.14955978, -0.15830138],\n",
              "       [-0.7048644 , -0.72382916],\n",
              "       [-1.49543397, -0.18523128],\n",
              "       [-0.77898029, -0.63406285],\n",
              "       [-1.18661773,  1.76269775],\n",
              "       [-0.17370046, -0.88540853],\n",
              "       [-0.14899516,  0.58675903],\n",
              "       [-0.23546371, -0.02365191],\n",
              "       [-0.37134286,  1.08945039],\n",
              "       [-0.6060432 , -0.98415148],\n",
              "       [-0.49486935,  0.11099756],\n",
              "       [-0.92721209,  2.13971627],\n",
              "       [-0.5813379 ,  2.84887015],\n",
              "       [ 0.60451647,  1.12535692],\n",
              "       [-0.19840576,  0.55982913],\n",
              "       [-0.08723191,  0.42517966],\n",
              "       [ 0.44393202,  0.20076388],\n",
              "       [ 0.64157442,  0.74833839],\n",
              "       [ 0.76510091,  2.34617879],\n",
              "       [-0.92721209,  1.38567923],\n",
              "       [ 0.19687903,  1.10740365],\n",
              "       [ 1.0862698 ,  2.42696848],\n",
              "       [-0.16134781,  2.04097332],\n",
              "       [ 0.39452142,  0.81117481],\n",
              "       [ 0.09805783,  1.40363249],\n",
              "       [ 0.61686912,  0.70345524],\n",
              "       [-0.26016901,  0.29950682],\n",
              "       [ 0.13511578, -0.3916938 ],\n",
              "       [ 0.28334758,  0.8650346 ],\n",
              "       [-0.51957465, -0.93926832],\n",
              "       [ 0.20923168,  2.56161795],\n",
              "       [ 1.0368592 ,  1.60111838],\n",
              "       [-0.6801591 ,  0.62266555],\n",
              "       [ 1.65449169, -0.58917969],\n",
              "       [ 0.59216382, -0.59815632],\n",
              "       [-0.79133294,  1.34079607],\n",
              "       [ 0.85156946,  0.82912808],\n",
              "       [-0.18605311,  0.83810471],\n",
              "       [-0.05017396,  0.99968408],\n",
              "       [ 0.96274331,  0.3802965 ],\n",
              "       [ 0.90098006,  1.81655754],\n",
              "       [ 0.55510587,  1.22409986],\n",
              "       [-0.22311106,  0.92787102],\n",
              "       [ 0.71569031,  0.21871714],\n",
              "       [ 0.49334262,  2.03199669],\n",
              "       [-0.98897534,  0.62266555],\n",
              "       [-0.28487431,  0.04816114],\n",
              "       [ 1.43214399,  0.15588072],\n",
              "       [ 0.87627476,  2.974543  ],\n",
              "       [ 0.49334262,  1.41260912],\n",
              "       [ 0.33275817,  1.74474449],\n",
              "       [ 0.20923168,  0.22769377],\n",
              "       [ 1.39508604,  1.58316512]])"
            ]
          },
          "metadata": {
            "tags": []
          },
          "execution_count": 10
        }
      ]
    },
    {
      "cell_type": "code",
      "metadata": {
        "colab": {
          "base_uri": "https://localhost:8080/"
        },
        "id": "RpsrmlD-iZb-",
        "outputId": "4a43705f-6b97-4354-c567-fe6250997f5b"
      },
      "source": [
        "df_minmax"
      ],
      "execution_count": 11,
      "outputs": [
        {
          "output_type": "execute_result",
          "data": {
            "text/plain": [
              "array([[0.84210526, 0.1916996 ],\n",
              "       [0.57105263, 0.2055336 ],\n",
              "       [0.56052632, 0.3201581 ],\n",
              "       [0.87894737, 0.23913043],\n",
              "       [0.58157895, 0.36561265],\n",
              "       [0.83421053, 0.20158103],\n",
              "       [0.88421053, 0.22332016],\n",
              "       [0.79736842, 0.27865613],\n",
              "       [1.        , 0.17786561],\n",
              "       [0.74473684, 0.12055336],\n",
              "       [0.80789474, 0.28063241],\n",
              "       [0.81315789, 0.14624506],\n",
              "       [0.71578947, 0.19565217],\n",
              "       [0.97894737, 0.19565217],\n",
              "       [0.88157895, 0.22332016],\n",
              "       [0.68421053, 0.21146245],\n",
              "       [0.86052632, 0.23320158],\n",
              "       [0.73684211, 0.16403162],\n",
              "       [0.83157895, 0.16798419],\n",
              "       [0.68684211, 0.46640316],\n",
              "       [0.79736842, 0.17588933],\n",
              "       [0.5       , 0.60474308],\n",
              "       [0.70526316, 0.22134387],\n",
              "       [0.47894737, 0.16996047],\n",
              "       [0.65      , 0.21146245],\n",
              "       [0.53157895, 0.25889328],\n",
              "       [0.62105263, 0.20355731],\n",
              "       [0.59736842, 0.19367589],\n",
              "       [0.74736842, 0.22924901],\n",
              "       [0.78684211, 0.18577075],\n",
              "       [0.71052632, 0.15019763],\n",
              "       [0.67105263, 0.18181818],\n",
              "       [0.69736842, 0.21541502],\n",
              "       [0.71842105, 0.15612648],\n",
              "       [0.65263158, 0.20948617],\n",
              "       [0.64473684, 0.21146245],\n",
              "       [0.59210526, 0.17786561],\n",
              "       [0.53157895, 0.1798419 ],\n",
              "       [0.53684211, 0.15019763],\n",
              "       [0.83947368, 0.64229249],\n",
              "       [0.66578947, 0.1916996 ],\n",
              "       [0.62631579, 0.61264822],\n",
              "       [0.75      , 0.22727273],\n",
              "       [0.58157895, 0.64031621],\n",
              "       [0.53157895, 0.20355731],\n",
              "       [0.83684211, 0.65217391],\n",
              "       [0.88157895, 0.56324111],\n",
              "       [0.75526316, 0.18577075],\n",
              "       [0.80789474, 0.25296443],\n",
              "       [0.76578947, 0.19565217],\n",
              "       [0.53157895, 0.19565217],\n",
              "       [0.73684211, 0.1798419 ],\n",
              "       [0.73421053, 0.19960474],\n",
              "       [0.72105263, 0.22924901],\n",
              "       [0.71315789, 0.18379447],\n",
              "       [0.66578947, 0.19565217],\n",
              "       [0.83947368, 0.18972332],\n",
              "       [0.59473684, 0.243083  ],\n",
              "       [0.70789474, 0.13636364],\n",
              "       [0.35263158, 0.03952569],\n",
              "       [0.34210526, 0.07114625],\n",
              "       [0.42368421, 0.12252964],\n",
              "       [0.69473684, 0.10079051],\n",
              "       [0.35263158, 0.0770751 ],\n",
              "       [0.3       , 0.14031621],\n",
              "       [0.35263158, 0.09288538],\n",
              "       [0.54736842, 0.05335968],\n",
              "       [0.35263158, 0.08498024],\n",
              "       [0.60789474, 0.03952569],\n",
              "       [0.31052632, 0.08893281],\n",
              "       [0.33157895, 0.17193676],\n",
              "       [0.74473684, 0.15217391],\n",
              "       [0.64736842, 0.18181818],\n",
              "       [0.51578947, 0.18379447],\n",
              "       [0.24473684, 0.06916996],\n",
              "       [0.16578947, 0.22529644],\n",
              "       [0.52631579, 0.03162055],\n",
              "       [0.21315789, 0.42490119],\n",
              "       [0.34210526, 0.04940711],\n",
              "       [0.43947368, 0.61857708],\n",
              "       [0.25526316, 0.03557312],\n",
              "       [0.44473684, 0.21146245],\n",
              "       [0.27631579, 0.0770751 ],\n",
              "       [0.53157895, 0.61660079],\n",
              "       [0.21315789, 0.02964427],\n",
              "       [0.43157895, 0.04743083],\n",
              "       [0.29736842, 0.17193676],\n",
              "       [0.16315789, 0.18379447],\n",
              "       [0.16052632, 0.26086957],\n",
              "       [0.27631579, 0.11660079],\n",
              "       [0.27631579, 0.21541502],\n",
              "       [0.25526316, 0.15217391],\n",
              "       [0.43684211, 0.15612648],\n",
              "       [0.33157895, 0.41304348],\n",
              "       [0.15526316, 0.24703557],\n",
              "       [0.37894737, 0.1541502 ],\n",
              "       [0.20526316, 0.27272727],\n",
              "       [0.33157895, 0.13241107],\n",
              "       [0.35263158, 0.06521739],\n",
              "       [0.33157895, 0.48023715],\n",
              "       [0.27631579, 0.26482213],\n",
              "       [0.41315789, 0.11857708],\n",
              "       [0.34473684, 0.33794466],\n",
              "       [0.20789474, 0.19367589],\n",
              "       [0.38947368, 0.19565217],\n",
              "       [0.36578947, 0.35770751],\n",
              "       [0.32105263, 0.19565217],\n",
              "       [0.44473684, 0.19960474],\n",
              "       [0.31315789, 0.10869565],\n",
              "       [0.15263158, 0.12055336],\n",
              "       [0.11315789, 0.59288538],\n",
              "       [0.39210526, 0.33399209],\n",
              "       [0.19210526, 0.38339921],\n",
              "       [0.1       , 0.        ],\n",
              "       [0.27631579, 0.1284585 ],\n",
              "       [0.        , 0.15217391],\n",
              "       [0.20789474, 0.14426877],\n",
              "       [0.36578947, 0.17193676],\n",
              "       [0.45789474, 0.53162055],\n",
              "       [0.25526316, 0.53162055],\n",
              "       [0.11052632, 0.32806324],\n",
              "       [0.13947368, 0.25889328],\n",
              "       [0.36578947, 0.72924901],\n",
              "       [0.53157895, 1.        ],\n",
              "       [0.22105263, 0.7055336 ],\n",
              "       [0.27368421, 0.28063241],\n",
              "       [0.36842105, 0.15612648],\n",
              "       [0.2       , 0.27470356],\n",
              "       [0.35263158, 0.17588933],\n",
              "       [0.26578947, 0.70355731],\n",
              "       [0.48157895, 0.12055336],\n",
              "       [0.48684211, 0.44466403],\n",
              "       [0.46842105, 0.31027668],\n",
              "       [0.43947368, 0.55533597],\n",
              "       [0.38947368, 0.09881423],\n",
              "       [0.41315789, 0.33992095],\n",
              "       [0.32105263, 0.78656126],\n",
              "       [0.39473684, 0.94268775],\n",
              "       [0.64736842, 0.56324111],\n",
              "       [0.47631579, 0.43873518],\n",
              "       [0.5       , 0.40909091],\n",
              "       [0.61315789, 0.35968379],\n",
              "       [0.65526316, 0.48023715],\n",
              "       [0.68157895, 0.83201581],\n",
              "       [0.32105263, 0.62055336],\n",
              "       [0.56052632, 0.55928854],\n",
              "       [0.75      , 0.84980237],\n",
              "       [0.48421053, 0.76482213],\n",
              "       [0.60263158, 0.49407115],\n",
              "       [0.53947368, 0.62450593],\n",
              "       [0.65      , 0.47035573],\n",
              "       [0.46315789, 0.38142292],\n",
              "       [0.54736842, 0.22924901],\n",
              "       [0.57894737, 0.50592885],\n",
              "       [0.40789474, 0.10869565],\n",
              "       [0.56315789, 0.87944664],\n",
              "       [0.73947368, 0.66798419],\n",
              "       [0.37368421, 0.45256917],\n",
              "       [0.87105263, 0.18577075],\n",
              "       [0.64473684, 0.18379447],\n",
              "       [0.35      , 0.61067194],\n",
              "       [0.7       , 0.49802372],\n",
              "       [0.47894737, 0.5       ],\n",
              "       [0.50789474, 0.53557312],\n",
              "       [0.72368421, 0.39920949],\n",
              "       [0.71052632, 0.71541502],\n",
              "       [0.63684211, 0.58498024],\n",
              "       [0.47105263, 0.51976285],\n",
              "       [0.67105263, 0.36363636],\n",
              "       [0.62368421, 0.76284585],\n",
              "       [0.30789474, 0.45256917],\n",
              "       [0.45789474, 0.32608696],\n",
              "       [0.82368421, 0.34980237],\n",
              "       [0.70526316, 0.97035573],\n",
              "       [0.62368421, 0.62648221],\n",
              "       [0.58947368, 0.69960474],\n",
              "       [0.56315789, 0.36561265],\n",
              "       [0.81578947, 0.66403162]])"
            ]
          },
          "metadata": {
            "tags": []
          },
          "execution_count": 11
        }
      ]
    },
    {
      "cell_type": "code",
      "metadata": {
        "colab": {
          "base_uri": "https://localhost:8080/"
        },
        "id": "bW2BiqMOiolo",
        "outputId": "9d305309-a850-47f4-e7ab-c6feacfd59b4"
      },
      "source": [
        "print('Mean after standardization:\\nAlcohol={:.2f}, Malic acid={:.2f}'\n",
        "      .format(df_std[:,0].mean(), df_std[:,1].mean()))\n",
        "print('\\nStandard deviation after standardization:\\nAlcohol={:.2f}, Malic acid={:.2f}'\n",
        "      .format(df_std[:,0].std(), df_std[:,1].std()))"
      ],
      "execution_count": 12,
      "outputs": [
        {
          "output_type": "stream",
          "text": [
            "Mean after standardization:\n",
            "Alcohol=-0.00, Malic acid=-0.00\n",
            "\n",
            "Standard deviation after standardization:\n",
            "Alcohol=1.00, Malic acid=1.00\n"
          ],
          "name": "stdout"
        }
      ]
    },
    {
      "cell_type": "code",
      "metadata": {
        "colab": {
          "base_uri": "https://localhost:8080/"
        },
        "id": "Yx-3QSARi_nc",
        "outputId": "5cf358bc-89c1-4a87-820a-d0cd53993aed"
      },
      "source": [
        "print('Min-value after min-max scaling:\\nAlcohol={:.2f}, Malic acid={:.2f}'\n",
        "      .format(df_minmax[:,0].min(), df_minmax[:,1].min()))\n",
        "print('\\nMax-value after min-max scaling:\\nAlcohol={:.2f}, Malic acid={:.2f}'\n",
        "      .format(df_minmax[:,0].max(), df_minmax[:,1].max()))"
      ],
      "execution_count": 13,
      "outputs": [
        {
          "output_type": "stream",
          "text": [
            "Min-value after min-max scaling:\n",
            "Alcohol=0.00, Malic acid=0.00\n",
            "\n",
            "Max-value after min-max scaling:\n",
            "Alcohol=1.00, Malic acid=1.00\n"
          ],
          "name": "stdout"
        }
      ]
    },
    {
      "cell_type": "code",
      "metadata": {
        "id": "GrhflLjUjH1Y"
      },
      "source": [
        "import matplotlib.pyplot as plt\n",
        "%matplotlib inline"
      ],
      "execution_count": 14,
      "outputs": []
    },
    {
      "cell_type": "code",
      "metadata": {
        "colab": {
          "base_uri": "https://localhost:8080/",
          "height": 513
        },
        "id": "ZxD0hQqEkfk7",
        "outputId": "8b4ed55f-3015-4c58-e844-d6e0a947e89b"
      },
      "source": [
        "def plot():\n",
        "  plt.figure(figsize=[10,8])\n",
        "  plt.scatter(df['Alcohol'], df['Malic acid'],\n",
        "            color='green', label='input scale', alpha=0.5)\n",
        "  \n",
        "  plt.scatter(df_std[:,0], df_std[:,1], color='red',\n",
        "            label='Standardized [N  (\\mu=0, \\; \\sigma=1)]', alpha=0.3)\n",
        "\n",
        "  plt.scatter(df_minmax[:,0], df_minmax[:,1],\n",
        "            color='blue', label='min-max scaled [min=0, max=1]', alpha=0.3)\n",
        "\n",
        "  plt.title('Alcohol and Malic Acid content of the wine dataset')\n",
        "  plt.xlabel('Alcohol')\n",
        "  plt.ylabel('Malic Acid')\n",
        "  plt.legend(loc='upper left')\n",
        "  plt.grid()\n",
        "  ##plt.tight_layout()\n",
        "plot()\n",
        "plt.show()"
      ],
      "execution_count": 20,
      "outputs": [
        {
          "output_type": "display_data",
          "data": {
            "image/png": "[encoded data removed]",
            "text/plain": [
              "<Figure size 720x576 with 1 Axes>"
            ]
          },
          "metadata": {
            "tags": [],
            "needs_background": "light"
          }
        }
      ]
    },
    {
      "cell_type": "code",
      "metadata": {
        "colab": {
          "base_uri": "https://localhost:8080/",
          "height": 1000
        },
        "id": "XMZVNvQSl55M",
        "outputId": "c72bb8a9-9e80-4b80-e08a-68adbc6eaf0e"
      },
      "source": [
        "ig, ax = plt.subplots(3, figsize=(6,14))\n",
        "\n",
        "for a,d,l in zip(range(len(ax)),\n",
        "               (df[['Alcohol', 'Malic acid']].values, df_std, df_minmax),\n",
        "               ('Input scale',\n",
        "                'Standardized [N  (\\mu=0, \\; \\sigma=1)]',\n",
        "                'min-max scaled [min=0, max=1]')\n",
        "                ):\n",
        "    for i,c in zip(range(1,4), ('red', 'blue', 'green')):\n",
        "        ax[a].scatter(d[df['Class label'].values == i, 0],\n",
        "                  d[df['Class label'].values == i, 1],\n",
        "                  alpha=0.5,\n",
        "                  color=c,\n",
        "                  label='Class %s' %i\n",
        "                  )\n",
        "    ax[a].set_title(l)\n",
        "    ax[a].set_xlabel('Alcohol')\n",
        "    ax[a].set_ylabel('Malic Acid')\n",
        "    ax[a].legend(loc='upper left')\n",
        "    ax[a].grid()\n",
        "\n",
        "plt.tight_layout()\n",
        "\n",
        "plt.show()"
      ],
      "execution_count": 22,
      "outputs": [
        {
          "output_type": "display_data",
          "data": {
            "image/png": "[encoded data removed]",
            "text/plain": [
              "<Figure size 432x1008 with 3 Axes>"
            ]
          },
          "metadata": {
            "tags": [],
            "needs_background": "light"
          }
        }
      ]
    },
    {
      "cell_type": "markdown",
      "metadata": {
        "id": "zfdL9_Euw8Ey"
      },
      "source": [
        "**The effect of standardization on PCA in a pattern classification task**"
      ]
    },
    {
      "cell_type": "markdown",
      "metadata": {
        "id": "tf1pOK4mw72Y"
      },
      "source": [
        "Earlier, I mentioned the Principal Component Analysis (PCA) as an example where standardization is crucial, since it is “analyzing” the variances of the different features.\n",
        "Now, let us see how the standardization affects PCA and a following supervised classification on the whole wine dataset.\n",
        "\n",
        "In the following section, we will go through the following steps:\n",
        "\n",
        "1)Reading in the dataset\n",
        "\n",
        "2)Dividing the dataset into a separate training and test dataset\n",
        "\n",
        "3)Standardization of the features\n",
        "\n",
        "4)Principal Component Analysis (PCA) to reduce the dimensionality\n",
        "\n",
        "5)Training a naive Bayes classifier\n",
        "\n",
        "6)Evaluating the classification accuracy with and without standardization\n"
      ]
    },
    {
      "cell_type": "code",
      "metadata": {
        "id": "trIcxInxqwXo"
      },
      "source": [
        "import pandas as pd\n",
        "\n",
        "df = pd.io.parsers.read_csv(\n",
        "    'https://raw.githubusercontent.com/rasbt/pattern_classification/master/data/wine_data.csv',\n",
        "    header=None,\n",
        "    )"
      ],
      "execution_count": 23,
      "outputs": []
    },
    {
      "cell_type": "code",
      "metadata": {
        "colab": {
          "base_uri": "https://localhost:8080/",
          "height": 204
        },
        "id": "SFFTtJijxVdt",
        "outputId": "896cbe32-3bd1-4731-823a-dd11b84d778a"
      },
      "source": [
        "df.head()"
      ],
      "execution_count": 25,
      "outputs": [
        {
          "output_type": "execute_result",
          "data": {
            "text/html": [
              "<div>\n",
              "<style scoped>\n",
              "    .dataframe tbody tr th:only-of-type {\n",
              "        vertical-align: middle;\n",
              "    }\n",
              "\n",
              "    .dataframe tbody tr th {\n",
              "        vertical-align: top;\n",
              "    }\n",
              "\n",
              "    .dataframe thead th {\n",
              "        text-align: right;\n",
              "    }\n",
              "</style>\n",
              "<table border=\"1\" class=\"dataframe\">\n",
              "  <thead>\n",
              "    <tr style=\"text-align: right;\">\n",
              "      <th></th>\n",
              "      <th>0</th>\n",
              "      <th>1</th>\n",
              "      <th>2</th>\n",
              "      <th>3</th>\n",
              "      <th>4</th>\n",
              "      <th>5</th>\n",
              "      <th>6</th>\n",
              "      <th>7</th>\n",
              "      <th>8</th>\n",
              "      <th>9</th>\n",
              "      <th>10</th>\n",
              "      <th>11</th>\n",
              "      <th>12</th>\n",
              "      <th>13</th>\n",
              "    </tr>\n",
              "  </thead>\n",
              "  <tbody>\n",
              "    <tr>\n",
              "      <th>0</th>\n",
              "      <td>1</td>\n",
              "      <td>14.23</td>\n",
              "      <td>1.71</td>\n",
              "      <td>2.43</td>\n",
              "      <td>15.6</td>\n",
              "      <td>127</td>\n",
              "      <td>2.80</td>\n",
              "      <td>3.06</td>\n",
              "      <td>0.28</td>\n",
              "      <td>2.29</td>\n",
              "      <td>5.64</td>\n",
              "      <td>1.04</td>\n",
              "      <td>3.92</td>\n",
              "      <td>1065</td>\n",
              "    </tr>\n",
              "    <tr>\n",
              "      <th>1</th>\n",
              "      <td>1</td>\n",
              "      <td>13.20</td>\n",
              "      <td>1.78</td>\n",
              "      <td>2.14</td>\n",
              "      <td>11.2</td>\n",
              "      <td>100</td>\n",
              "      <td>2.65</td>\n",
              "      <td>2.76</td>\n",
              "      <td>0.26</td>\n",
              "      <td>1.28</td>\n",
              "      <td>4.38</td>\n",
              "      <td>1.05</td>\n",
              "      <td>3.40</td>\n",
              "      <td>1050</td>\n",
              "    </tr>\n",
              "    <tr>\n",
              "      <th>2</th>\n",
              "      <td>1</td>\n",
              "      <td>13.16</td>\n",
              "      <td>2.36</td>\n",
              "      <td>2.67</td>\n",
              "      <td>18.6</td>\n",
              "      <td>101</td>\n",
              "      <td>2.80</td>\n",
              "      <td>3.24</td>\n",
              "      <td>0.30</td>\n",
              "      <td>2.81</td>\n",
              "      <td>5.68</td>\n",
              "      <td>1.03</td>\n",
              "      <td>3.17</td>\n",
              "      <td>1185</td>\n",
              "    </tr>\n",
              "    <tr>\n",
              "      <th>3</th>\n",
              "      <td>1</td>\n",
              "      <td>14.37</td>\n",
              "      <td>1.95</td>\n",
              "      <td>2.50</td>\n",
              "      <td>16.8</td>\n",
              "      <td>113</td>\n",
              "      <td>3.85</td>\n",
              "      <td>3.49</td>\n",
              "      <td>0.24</td>\n",
              "      <td>2.18</td>\n",
              "      <td>7.80</td>\n",
              "      <td>0.86</td>\n",
              "      <td>3.45</td>\n",
              "      <td>1480</td>\n",
              "    </tr>\n",
              "    <tr>\n",
              "      <th>4</th>\n",
              "      <td>1</td>\n",
              "      <td>13.24</td>\n",
              "      <td>2.59</td>\n",
              "      <td>2.87</td>\n",
              "      <td>21.0</td>\n",
              "      <td>118</td>\n",
              "      <td>2.80</td>\n",
              "      <td>2.69</td>\n",
              "      <td>0.39</td>\n",
              "      <td>1.82</td>\n",
              "      <td>4.32</td>\n",
              "      <td>1.04</td>\n",
              "      <td>2.93</td>\n",
              "      <td>735</td>\n",
              "    </tr>\n",
              "  </tbody>\n",
              "</table>\n",
              "</div>"
            ],
            "text/plain": [
              "   0      1     2     3     4    5   ...    8     9     10    11    12    13\n",
              "0   1  14.23  1.71  2.43  15.6  127  ...  0.28  2.29  5.64  1.04  3.92  1065\n",
              "1   1  13.20  1.78  2.14  11.2  100  ...  0.26  1.28  4.38  1.05  3.40  1050\n",
              "2   1  13.16  2.36  2.67  18.6  101  ...  0.30  2.81  5.68  1.03  3.17  1185\n",
              "3   1  14.37  1.95  2.50  16.8  113  ...  0.24  2.18  7.80  0.86  3.45  1480\n",
              "4   1  13.24  2.59  2.87  21.0  118  ...  0.39  1.82  4.32  1.04  2.93   735\n",
              "\n",
              "[5 rows x 14 columns]"
            ]
          },
          "metadata": {
            "tags": []
          },
          "execution_count": 25
        }
      ]
    },
    {
      "cell_type": "markdown",
      "metadata": {
        "id": "7ejNGrPDxfZ3"
      },
      "source": [
        "**Dividing the dataset into a separate training and test dataset**\n",
        "In this step, we will randomly divide the wine dataset into a training dataset and a test dataset where the training dataset will contain 70% of the samples and the test dataset will contain 30%, respectively."
      ]
    },
    {
      "cell_type": "code",
      "metadata": {
        "id": "JstDsCtuxXEk"
      },
      "source": [
        "from sklearn.model_selection import train_test_split\n",
        "\n",
        "X_wine = df.values[:,1:]\n",
        "y_wine = df.values[:,0]\n",
        "\n",
        "X_train, X_test, y_train, y_test = train_test_split(X_wine, y_wine,\n",
        "    test_size=0.30, random_state=12345)"
      ],
      "execution_count": 27,
      "outputs": []
    },
    {
      "cell_type": "markdown",
      "metadata": {
        "id": "a0UdbEyvx8Gh"
      },
      "source": [
        "**Feature Scaling - Standardization**"
      ]
    },
    {
      "cell_type": "code",
      "metadata": {
        "id": "2DYo32wnxgQV"
      },
      "source": [
        "from sklearn import preprocessing\n",
        "\n",
        "std_scale = preprocessing.StandardScaler().fit(X_train)\n",
        "X_train_std = std_scale.transform(X_train)\n",
        "X_test_std = std_scale.transform(X_test)"
      ],
      "execution_count": 28,
      "outputs": []
    },
    {
      "cell_type": "code",
      "metadata": {
        "id": "EFyLtQBkx6zX"
      },
      "source": [
        "from sklearn.decomposition import PCA\n",
        "\n",
        "# on non-standardized data\n",
        "pca = PCA(n_components=2).fit(X_train)\n",
        "X_train = pca.transform(X_train)\n",
        "X_test = pca.transform(X_test)\n",
        "\n",
        "\n",
        "# om standardized data\n",
        "pca_std = PCA(n_components=2).fit(X_train_std)\n",
        "X_train_std = pca_std.transform(X_train_std)\n",
        "X_test_std = pca_std.transform(X_test_std)"
      ],
      "execution_count": 30,
      "outputs": []
    },
    {
      "cell_type": "code",
      "metadata": {
        "colab": {
          "base_uri": "https://localhost:8080/",
          "height": 297
        },
        "id": "Ko1vxR5S0ixc",
        "outputId": "211844bb-cc84-4e51-94d6-00559668354b"
      },
      "source": [
        "from matplotlib import pyplot as plt\n",
        "\n",
        "fig, (ax1, ax2) = plt.subplots(ncols=2, figsize=(10,4))\n",
        "\n",
        "\n",
        "for l,c,m in zip(range(1,4), ('blue', 'red', 'green'), ('^', 's', 'o')):\n",
        "    ax1.scatter(X_train[y_train==l, 0], X_train[y_train==l, 1],\n",
        "        color=c,\n",
        "        label='class %s' %l,\n",
        "        alpha=0.5,\n",
        "        marker=m\n",
        "        )\n",
        "\n",
        "for l,c,m in zip(range(1,4), ('blue', 'red', 'green'), ('^', 's', 'o')):\n",
        "    ax2.scatter(X_train_std[y_train==l, 0], X_train_std[y_train==l, 1],\n",
        "        color=c,\n",
        "        label='class %s' %l,\n",
        "        alpha=0.5,\n",
        "        marker=m\n",
        "        )\n",
        "\n",
        "ax1.set_title('Transformed NON-standardized training dataset after PCA')    \n",
        "ax2.set_title('Transformed standardized training dataset after PCA')    \n",
        "\n",
        "for ax in (ax1, ax2):\n",
        "\n",
        "    ax.set_xlabel('1st principal component')\n",
        "    ax.set_ylabel('2nd principal component')\n",
        "    ax.legend(loc='upper right')\n",
        "    ax.grid()\n",
        "plt.tight_layout()\n",
        "\n",
        "plt.show()  \n"
      ],
      "execution_count": 31,
      "outputs": [
        {
          "output_type": "display_data",
          "data": {
            "image/png": "[encoded data removed]",
            "text/plain": [
              "<Figure size 720x288 with 2 Axes>"
            ]
          },
          "metadata": {
            "tags": [],
            "needs_background": "light"
          }
        }
      ]
    },
    {
      "cell_type": "markdown",
      "metadata": {
        "id": "6UvBavL42KOL"
      },
      "source": [
        "**Training a naive Bayes classifier**\n",
        "\n",
        "We will use a naive Bayes classifier for the classification task. If you are not familiar with it, the term “naive” comes from the assumption that all features are “independent”.\n",
        "All in all, it is a simple but robust classifier based on Bayes’ rule\n",
        "\n"
      ]
    },
    {
      "cell_type": "code",
      "metadata": {
        "id": "pN43NOZ41vea"
      },
      "source": [
        "from sklearn.naive_bayes import GaussianNB\n",
        "\n",
        "# on non-standardized data\n",
        "gnb = GaussianNB()\n",
        "fit = gnb.fit(X_train, y_train)\n",
        "\n",
        "# on standardized data\n",
        "gnb_std = GaussianNB()\n",
        "fit_std = gnb_std.fit(X_train_std, y_train)"
      ],
      "execution_count": 32,
      "outputs": []
    },
    {
      "cell_type": "code",
      "metadata": {
        "colab": {
          "base_uri": "https://localhost:8080/"
        },
        "id": "60cBLap42eM7",
        "outputId": "0f48f8a3-4b7c-40b6-c487-1323a5df187d"
      },
      "source": [
        "from sklearn import metrics\n",
        "\n",
        "pred_train = gnb.predict(X_train)\n",
        "\n",
        "print('\\nPrediction accuracy for the training dataset')\n",
        "print('{:.2%}'.format(metrics.accuracy_score(y_train, pred_train)))\n",
        "\n",
        "pred_test = gnb.predict(X_test)\n",
        "\n",
        "print('\\nPrediction accuracy for the test dataset')\n",
        "print('{:.2%}\\n'.format(metrics.accuracy_score(y_test, pred_test)))"
      ],
      "execution_count": 33,
      "outputs": [
        {
          "output_type": "stream",
          "text": [
            "\n",
            "Prediction accuracy for the training dataset\n",
            "81.45%\n",
            "\n",
            "Prediction accuracy for the test dataset\n",
            "64.81%\n",
            "\n"
          ],
          "name": "stdout"
        }
      ]
    },
    {
      "cell_type": "code",
      "metadata": {
        "colab": {
          "base_uri": "https://localhost:8080/"
        },
        "id": "mvDjxCei2i9w",
        "outputId": "ab7a6e29-e9ce-44b4-c0ac-ab10318db144"
      },
      "source": [
        "pred_train_std = gnb_std.predict(X_train_std)\n",
        "\n",
        "print('\\nPrediction accuracy for the training dataset')\n",
        "print('{:.2%}'.format(metrics.accuracy_score(y_train, pred_train_std)))\n",
        "\n",
        "pred_test_std = gnb_std.predict(X_test_std)\n",
        "\n",
        "print('\\nPrediction accuracy for the test dataset')\n",
        "print('{:.2%}\\n'.format(metrics.accuracy_score(y_test, pred_test_std)))"
      ],
      "execution_count": 37,
      "outputs": [
        {
          "output_type": "stream",
          "text": [
            "\n",
            "Prediction accuracy for the training dataset\n",
            "96.77%\n",
            "\n",
            "Prediction accuracy for the test dataset\n",
            "98.15%\n",
            "\n"
          ],
          "name": "stdout"
        }
      ]
    },
    {
      "cell_type": "code",
      "metadata": {
        "id": "Kl934XKq2puU"
      },
      "source": [
        ""
      ],
      "execution_count": null,
      "outputs": []
    }
  ]
}